{
  "nbformat": 4,
  "nbformat_minor": 0,
  "metadata": {
    "colab": {
      "provenance": [],
      "gpuType": "T4"
    },
    "kernelspec": {
      "name": "python3",
      "display_name": "Python 3"
    },
    "language_info": {
      "name": "python"
    },
    "accelerator": "GPU"
  },
  "cells": [
    {
      "cell_type": "code",
      "execution_count": null,
      "metadata": {
        "colab": {
          "base_uri": "https://localhost:8080/"
        },
        "id": "-Zm6PUD3lChF",
        "outputId": "aa420c5c-d944-4851-d81c-e743a51cc021"
      },
      "outputs": [
        {
          "output_type": "stream",
          "name": "stdout",
          "text": [
            "Collecting gTTS\n",
            "  Downloading gTTS-2.5.3-py3-none-any.whl.metadata (4.1 kB)\n",
            "Requirement already satisfied: requests<3,>=2.27 in /usr/local/lib/python3.10/dist-packages (from gTTS) (2.32.3)\n",
            "Requirement already satisfied: click<8.2,>=7.1 in /usr/local/lib/python3.10/dist-packages (from gTTS) (8.1.7)\n",
            "Requirement already satisfied: charset-normalizer<4,>=2 in /usr/local/lib/python3.10/dist-packages (from requests<3,>=2.27->gTTS) (3.3.2)\n",
            "Requirement already satisfied: idna<4,>=2.5 in /usr/local/lib/python3.10/dist-packages (from requests<3,>=2.27->gTTS) (3.7)\n",
            "Requirement already satisfied: urllib3<3,>=1.21.1 in /usr/local/lib/python3.10/dist-packages (from requests<3,>=2.27->gTTS) (2.0.7)\n",
            "Requirement already satisfied: certifi>=2017.4.17 in /usr/local/lib/python3.10/dist-packages (from requests<3,>=2.27->gTTS) (2024.7.4)\n",
            "Downloading gTTS-2.5.3-py3-none-any.whl (29 kB)\n",
            "Installing collected packages: gTTS\n",
            "Successfully installed gTTS-2.5.3\n"
          ]
        }
      ],
      "source": [
        "!pip install gTTS"
      ]
    },
    {
      "cell_type": "code",
      "source": [
        "from gtts import gTTS"
      ],
      "metadata": {
        "id": "l3HQ-6r8lSSK"
      },
      "execution_count": null,
      "outputs": []
    },
    {
      "cell_type": "code",
      "source": [
        "tts = gTTS('Hola Khan, mi nombre es Lissa. Espero que lo estés pasando bien. Hoy estoy aquí para realizar una entrevista sobre diseño gráfico.', lang='es', tld=\"es\")\n",
        "tts.save('spanish_espanyol_version.mp3')"
      ],
      "metadata": {
        "id": "9t33tDVklT6Q"
      },
      "execution_count": null,
      "outputs": []
    },
    {
      "cell_type": "code",
      "source": [
        "tts = gTTS('''Bonjour! Comment allez-vous aujourd'hui? J'espère que vous passez une excellente journée.''', lang='fr', tld=\"fr\")\n",
        "tts.save('french__version.mp3')"
      ],
      "metadata": {
        "id": "ZzrZZjqZyCth"
      },
      "execution_count": null,
      "outputs": []
    },
    {
      "cell_type": "code",
      "source": [
        "!pip install pydub\n"
      ],
      "metadata": {
        "colab": {
          "base_uri": "https://localhost:8080/"
        },
        "id": "hFZyrT1enNiB",
        "outputId": "2bb4a5b0-146f-4f72-a5cb-bf93b531a3b0"
      },
      "execution_count": null,
      "outputs": [
        {
          "output_type": "stream",
          "name": "stdout",
          "text": [
            "Collecting pydub\n",
            "  Downloading pydub-0.25.1-py2.py3-none-any.whl.metadata (1.4 kB)\n",
            "Downloading pydub-0.25.1-py2.py3-none-any.whl (32 kB)\n",
            "Installing collected packages: pydub\n",
            "Successfully installed pydub-0.25.1\n"
          ]
        }
      ]
    },
    {
      "cell_type": "code",
      "source": [
        "from pydub import AudioSegment\n",
        "def change_pitch(audio_path, semitones):\n",
        "    audio = AudioSegment.from_file(audio_path)\n",
        "    new_sample_rate = int(audio.frame_rate * (2.0 ** (semitones / 12.0)))\n",
        "    changed_audio = audio._spawn(audio.raw_data, overrides={'frame_rate': new_sample_rate}).set_frame_rate(44100)\n",
        "    if semitones < 0:\n",
        "        # Compensate for the duration change to maintain original speed\n",
        "        speed_factor = 2.0 ** (-semitones / 12.0)  # Inverse of the pitch change factor\n",
        "        adjusted_audio = changed_audio.set_frame_rate(44100).speedup(playback_speed=speed_factor)\n",
        "    else:\n",
        "        adjusted_audio = changed_audio.set_frame_rate(44100)\n",
        "\n",
        "    adjusted_audio.export(audio_path, format=\"wav\")  # Overwrite the original file\n",
        "    return audio_path"
      ],
      "metadata": {
        "id": "9tMu0KRywfob"
      },
      "execution_count": null,
      "outputs": []
    },
    {
      "cell_type": "code",
      "source": [
        "file_path = '/content/french__version.mp3'  # Path to your original audio file\n",
        "semitones = -5.0  # Increase pitch by 3 semitones\n",
        "\n",
        "# Call the function\n",
        "changed_file_path = change_pitch(file_path, semitones)\n",
        "\n",
        "print(f\"Modified audio saved at: {changed_file_path}\")"
      ],
      "metadata": {
        "id": "aVZh2_fOnZ3h",
        "colab": {
          "base_uri": "https://localhost:8080/"
        },
        "outputId": "ef6c2225-0e2e-4bc2-98f2-921a87ba1c64"
      },
      "execution_count": null,
      "outputs": [
        {
          "output_type": "stream",
          "name": "stdout",
          "text": [
            "Modified audio saved at: /content/french__version.mp3\n"
          ]
        }
      ]
    }
  ]
}